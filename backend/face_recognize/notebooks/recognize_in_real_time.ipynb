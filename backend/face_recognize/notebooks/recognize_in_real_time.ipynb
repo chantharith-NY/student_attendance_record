{
 "cells": [
  {
   "cell_type": "markdown",
   "id": "b2458092",
   "metadata": {},
   "source": [
    "# Recognize Faces in Real Time (Webcam)\n",
    "This notebook uses the trained face recognition model to recognize faces in real-time using a webcam."
   ]
  },
  {
   "cell_type": "code",
   "execution_count": 3,
   "id": "4cb0e772",
   "metadata": {},
   "outputs": [],
   "source": [
    "# Import Required Libraries\n",
    "import cv2\n",
    "import face_recognition\n",
    "import pickle\n",
    "import time"
   ]
  },
  {
   "cell_type": "code",
   "execution_count": 4,
   "id": "df2f29f9",
   "metadata": {},
   "outputs": [],
   "source": [
    "# Load encodings\n",
    "with open(\"../model/encodings.pickle\", \"rb\") as f:\n",
    "    data = pickle.load(f)"
   ]
  },
  {
   "cell_type": "code",
   "execution_count": 5,
   "id": "9c79a67a",
   "metadata": {},
   "outputs": [],
   "source": [
    "# Initialize Webcam\n",
    "video = cv2.VideoCapture(0)\n",
    "\n",
    "# Time tracking\n",
    "prev_time = 0\n",
    "\n",
    "while True:\n",
    "    ret, frame = video.read()\n",
    "    if not ret:\n",
    "        break\n",
    "\n",
    "    # Time at start of this frame\n",
    "    curr_time = time.time()\n",
    "\n",
    "    # Calculate FPS\n",
    "    fps = 1 / (curr_time - prev_time) if prev_time != 0 else 0\n",
    "    prev_time = curr_time\n",
    "\n",
    "    # Convert to RGB for face_recognition\n",
    "    rgb = cv2.cvtColor(frame, cv2.COLOR_BGR2RGB)\n",
    "\n",
    "    # Face detection and recognition\n",
    "    boxes = face_recognition.face_locations(rgb)\n",
    "    encodings = face_recognition.face_encodings(rgb, boxes)\n",
    "    names = []\n",
    "\n",
    "    for encoding in encodings:\n",
    "        matches = face_recognition.compare_faces(data[\"encodings\"], encoding)\n",
    "        name = \"Unknown\"\n",
    "\n",
    "        if True in matches:\n",
    "            matched_idxs = [i for (i, b) in enumerate(matches) if b]\n",
    "            counts = {}\n",
    "            for i in matched_idxs:\n",
    "                name = data[\"names\"][i]\n",
    "                counts[name] = counts.get(name, 0) + 1\n",
    "            name = max(counts, key=counts.get)\n",
    "        names.append(name)\n",
    "\n",
    "    # Draw boxes and labels\n",
    "    for ((top, right, bottom, left), name) in zip(boxes, names):\n",
    "        cv2.rectangle(frame, (left, top), (right, bottom), (0, 255, 0), 2)\n",
    "        cv2.putText(frame, name, (left, top - 10),\n",
    "                    cv2.FONT_HERSHEY_SIMPLEX, 0.75, (0, 255, 0), 2)\n",
    "\n",
    "    # Draw FPS\n",
    "    cv2.putText(frame, f\"FPS: {fps:.2f}\", (10, 30),\n",
    "                cv2.FONT_HERSHEY_SIMPLEX, 0.8, (0, 0, 255), 2)\n",
    "\n",
    "    # Show the frame\n",
    "    cv2.imshow(\"Face Recognition\", frame)\n",
    "\n",
    "    if cv2.waitKey(1) & 0xFF == ord(\"q\"):\n",
    "        break\n",
    "\n",
    "video.release()\n",
    "cv2.destroyAllWindows()"
   ]
  }
 ],
 "metadata": {
  "kernelspec": {
   "display_name": "venv",
   "language": "python",
   "name": "python3"
  },
  "language_info": {
   "codemirror_mode": {
    "name": "ipython",
    "version": 3
   },
   "file_extension": ".py",
   "mimetype": "text/x-python",
   "name": "python",
   "nbconvert_exporter": "python",
   "pygments_lexer": "ipython3",
   "version": "3.12.2"
  }
 },
 "nbformat": 4,
 "nbformat_minor": 5
}
