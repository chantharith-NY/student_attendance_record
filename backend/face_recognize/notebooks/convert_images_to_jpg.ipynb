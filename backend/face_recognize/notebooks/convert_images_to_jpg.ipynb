{
 "cells": [
  {
   "cell_type": "markdown",
   "id": "2c4fe92d",
   "metadata": {},
   "source": [
    "# Convert Images to JPG Format\n",
    "This notebook will convert all images in the `student_images` directory to JPG format and save them back to the same directory."
   ]
  },
  {
   "cell_type": "code",
   "execution_count": 3,
   "id": "9c7a3daf",
   "metadata": {},
   "outputs": [],
   "source": [
    "# Import Required Libraries\n",
    "import os\n",
    "from PIL import Image\n",
    "from pillow_heif import register_heif_opener\n",
    "\n",
    "register_heif_opener()\n",
    "# Path to the directory where student images are stored\n",
    "STUDENT_IMAGES_DIR = \"/Users/nychanthrith/Downloads/ny_chantharith\""
   ]
  },
  {
   "cell_type": "code",
   "execution_count": 4,
   "id": "a15e296d",
   "metadata": {},
   "outputs": [],
   "source": [
    "# Function to Convert Images to JPG Format\n",
    "def convert_to_jpg(image_path):\n",
    "    with Image.open(image_path) as img:\n",
    "        rgb_img = img.convert(\"RGB\")\n",
    "        new_path = os.path.splitext(image_path)[0] + \".jpg\"\n",
    "        rgb_img.save(new_path, \"JPEG\")\n",
    "        print(f\"Converted {image_path} to {new_path}\")"
   ]
  },
  {
   "cell_type": "code",
   "execution_count": 5,
   "id": "634a8555",
   "metadata": {},
   "outputs": [
    {
     "name": "stdout",
     "output_type": "stream",
     "text": [
      "Converted /Users/nychanthrith/Downloads/ny_chantharith/IMG_5357.heic to /Users/nychanthrith/Downloads/ny_chantharith/IMG_5357.jpg\n",
      "Converted /Users/nychanthrith/Downloads/ny_chantharith/IMG_3597.heic to /Users/nychanthrith/Downloads/ny_chantharith/IMG_3597.jpg\n",
      "Converted /Users/nychanthrith/Downloads/ny_chantharith/IMG_1676.heic to /Users/nychanthrith/Downloads/ny_chantharith/IMG_1676.jpg\n",
      "Converted /Users/nychanthrith/Downloads/ny_chantharith/IMG_6521.heic to /Users/nychanthrith/Downloads/ny_chantharith/IMG_6521.jpg\n",
      "Converted /Users/nychanthrith/Downloads/ny_chantharith/IMG_3312.heic to /Users/nychanthrith/Downloads/ny_chantharith/IMG_3312.jpg\n",
      "Converted /Users/nychanthrith/Downloads/ny_chantharith/IMG_5367.heic to /Users/nychanthrith/Downloads/ny_chantharith/IMG_5367.jpg\n",
      "Converted /Users/nychanthrith/Downloads/ny_chantharith/IMG_2339.heic to /Users/nychanthrith/Downloads/ny_chantharith/IMG_2339.jpg\n",
      "Converted /Users/nychanthrith/Downloads/ny_chantharith/IMG_3314.heic to /Users/nychanthrith/Downloads/ny_chantharith/IMG_3314.jpg\n",
      "Converted /Users/nychanthrith/Downloads/ny_chantharith/IMG_6337.heic to /Users/nychanthrith/Downloads/ny_chantharith/IMG_6337.jpg\n",
      "Converted /Users/nychanthrith/Downloads/ny_chantharith/IMG_3508.heic to /Users/nychanthrith/Downloads/ny_chantharith/IMG_3508.jpg\n",
      "Converted /Users/nychanthrith/Downloads/ny_chantharith/IMG_3931.heic to /Users/nychanthrith/Downloads/ny_chantharith/IMG_3931.jpg\n",
      "Converted /Users/nychanthrith/Downloads/ny_chantharith/IMG_5352.heic to /Users/nychanthrith/Downloads/ny_chantharith/IMG_5352.jpg\n",
      "Converted /Users/nychanthrith/Downloads/ny_chantharith/IMG_1727.heic to /Users/nychanthrith/Downloads/ny_chantharith/IMG_1727.jpg\n",
      "Converted /Users/nychanthrith/Downloads/ny_chantharith/IMG_5591.heic to /Users/nychanthrith/Downloads/ny_chantharith/IMG_5591.jpg\n"
     ]
    }
   ],
   "source": [
    "# Iterate Through All Images in the Directory\n",
    "for filename in os.listdir(STUDENT_IMAGES_DIR):\n",
    "    if filename.endswith(\".heic\") or filename.endswith(\".HEIC\"):\n",
    "        image_path = os.path.join(STUDENT_IMAGES_DIR, filename)\n",
    "        try:\n",
    "            convert_to_jpg(image_path)\n",
    "            os.remove(image_path)  # Remove the original file after conversion\n",
    "        except Exception as e:\n",
    "            print(f\"Failed to convert {image_path}: {e}\")"
   ]
  }
 ],
 "metadata": {
  "kernelspec": {
   "display_name": ".venv",
   "language": "python",
   "name": "python3"
  },
  "language_info": {
   "codemirror_mode": {
    "name": "ipython",
    "version": 3
   },
   "file_extension": ".py",
   "mimetype": "text/x-python",
   "name": "python",
   "nbconvert_exporter": "python",
   "pygments_lexer": "ipython3",
   "version": "3.12.0"
  }
 },
 "nbformat": 4,
 "nbformat_minor": 5
}
