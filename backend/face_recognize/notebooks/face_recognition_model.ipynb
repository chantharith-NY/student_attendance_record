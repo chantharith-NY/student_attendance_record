{
 "cells": [
  {
   "cell_type": "markdown",
   "id": "22e6c501",
   "metadata": {},
   "source": [
    "# Face Recognition Model Training\n",
    "This notebook will guide you through the process of building a face recognition model. The model will be used as a reference for live camera face recognition."
   ]
  },
  {
   "cell_type": "code",
   "execution_count": 6,
   "id": "35c7ed43",
   "metadata": {},
   "outputs": [],
   "source": [
    "import face_recognition\n",
    "import os\n",
    "import pickle\n",
    "\n",
    "# If you encounter a quit() call in your code, replace it with appropriate logic.\n",
    "# For example, if you want to stop execution, use the following:\n",
    "# raise SystemExit(\"Execution stopped.\")\n"
   ]
  },
  {
   "cell_type": "code",
   "execution_count": 7,
   "id": "4ea0f65f",
   "metadata": {},
   "outputs": [],
   "source": [
    "known_encodings = []\n",
    "known_names = []"
   ]
  },
  {
   "cell_type": "code",
   "execution_count": 8,
   "id": "e4e2d11a",
   "metadata": {},
   "outputs": [],
   "source": [
    "dataset_path = \"../student_images/\""
   ]
  },
  {
   "cell_type": "code",
   "execution_count": 9,
   "id": "1953a057",
   "metadata": {},
   "outputs": [],
   "source": [
    "for person_name in os.listdir(dataset_path):\n",
    "    person_folder = os.path.join(dataset_path, person_name)\n",
    "    for filename in os.listdir(person_folder):\n",
    "        image_path = os.path.join(person_folder, filename)\n",
    "        image = face_recognition.load_image_file(image_path)\n",
    "        encodings = face_recognition.face_encodings(image)\n",
    "\n",
    "        if encodings:\n",
    "            known_encodings.append(encodings[0])\n",
    "            known_names.append(person_name)"
   ]
  },
  {
   "cell_type": "code",
   "execution_count": 11,
   "id": "9b1adaf1",
   "metadata": {},
   "outputs": [],
   "source": [
    "# Save encodings\n",
    "with open(\"../model/encodings.pickle\", \"wb\") as f:\n",
    "    pickle.dump({\"encodings\": known_encodings, \"names\": known_names}, f)"
   ]
  },
  {
   "cell_type": "code",
   "execution_count": null,
   "id": "4e7654ec",
   "metadata": {},
   "outputs": [],
   "source": []
  }
 ],
 "metadata": {
  "kernelspec": {
   "display_name": ".venv",
   "language": "python",
   "name": "python3"
  },
  "language_info": {
   "codemirror_mode": {
    "name": "ipython",
    "version": 3
   },
   "file_extension": ".py",
   "mimetype": "text/x-python",
   "name": "python",
   "nbconvert_exporter": "python",
   "pygments_lexer": "ipython3",
   "version": "3.12.0"
  }
 },
 "nbformat": 4,
 "nbformat_minor": 5
}
